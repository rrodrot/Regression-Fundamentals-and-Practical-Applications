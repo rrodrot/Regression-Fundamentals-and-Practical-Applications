{
 "cells": [
  {
   "cell_type": "markdown",
   "id": "a4ebddf6",
   "metadata": {},
   "source": [
    "## Simple Linear Regression Ex 3: Car Price Data\n",
    "\n",
    "In this exercise we will use a larger dataset that has both more datapoints and more independent variables. The dataset contains data on various car models and here we want to predict the car price from its features. We will only use one of these variables for now and will come back to use more variables in the next chapter where we look at multiple linear regression. We will also split our data into a training set and test set so we can apply our model to unseen data. \n",
    "\n",
    "First we import our required packages and dataset into the notebook."
   ]
  },
  {
   "cell_type": "code",
   "execution_count": 1,
   "id": "6fb94aec",
   "metadata": {},
   "outputs": [],
   "source": [
    "import pandas as pd\n",
    "import matplotlib.pyplot as plot\n",
    "import statsmodels.api as stats\n",
    "import numpy as np"
   ]
  },
  {
   "cell_type": "code",
   "execution_count": 2,
   "id": "a55b746c",
   "metadata": {},
   "outputs": [],
   "source": [
    "carprice_df = pd.read_csv('CarPrice_Assignment.csv')"
   ]
  },
  {
   "cell_type": "markdown",
   "id": "92e35ee4",
   "metadata": {},
   "source": [
    "### Assessing the Data"
   ]
  },
  {
   "cell_type": "code",
   "execution_count": 3,
   "id": "02231f82",
   "metadata": {},
   "outputs": [
    {
     "data": {
      "text/plain": [
       "(205, 26)"
      ]
     },
     "execution_count": 3,
     "metadata": {},
     "output_type": "execute_result"
    }
   ],
   "source": [
    "carprice_df.shape"
   ]
  },
  {
   "cell_type": "code",
   "execution_count": 4,
   "id": "d8b4dd5f",
   "metadata": {},
   "outputs": [
    {
     "data": {
      "text/html": [
       "<div>\n",
       "<style scoped>\n",
       "    .dataframe tbody tr th:only-of-type {\n",
       "        vertical-align: middle;\n",
       "    }\n",
       "\n",
       "    .dataframe tbody tr th {\n",
       "        vertical-align: top;\n",
       "    }\n",
       "\n",
       "    .dataframe thead th {\n",
       "        text-align: right;\n",
       "    }\n",
       "</style>\n",
       "<table border=\"1\" class=\"dataframe\">\n",
       "  <thead>\n",
       "    <tr style=\"text-align: right;\">\n",
       "      <th></th>\n",
       "      <th>car_ID</th>\n",
       "      <th>symboling</th>\n",
       "      <th>CarName</th>\n",
       "      <th>fueltype</th>\n",
       "      <th>aspiration</th>\n",
       "      <th>doornumber</th>\n",
       "      <th>carbody</th>\n",
       "      <th>drivewheel</th>\n",
       "      <th>enginelocation</th>\n",
       "      <th>wheelbase</th>\n",
       "      <th>...</th>\n",
       "      <th>enginesize</th>\n",
       "      <th>fuelsystem</th>\n",
       "      <th>boreratio</th>\n",
       "      <th>stroke</th>\n",
       "      <th>compressionratio</th>\n",
       "      <th>horsepower</th>\n",
       "      <th>peakrpm</th>\n",
       "      <th>citympg</th>\n",
       "      <th>highwaympg</th>\n",
       "      <th>price</th>\n",
       "    </tr>\n",
       "  </thead>\n",
       "  <tbody>\n",
       "    <tr>\n",
       "      <th>0</th>\n",
       "      <td>1</td>\n",
       "      <td>3</td>\n",
       "      <td>alfa-romero giulia</td>\n",
       "      <td>gas</td>\n",
       "      <td>std</td>\n",
       "      <td>two</td>\n",
       "      <td>convertible</td>\n",
       "      <td>rwd</td>\n",
       "      <td>front</td>\n",
       "      <td>88.6</td>\n",
       "      <td>...</td>\n",
       "      <td>130</td>\n",
       "      <td>mpfi</td>\n",
       "      <td>3.47</td>\n",
       "      <td>2.68</td>\n",
       "      <td>9.0</td>\n",
       "      <td>111</td>\n",
       "      <td>5000</td>\n",
       "      <td>21</td>\n",
       "      <td>27</td>\n",
       "      <td>13495.0</td>\n",
       "    </tr>\n",
       "    <tr>\n",
       "      <th>1</th>\n",
       "      <td>2</td>\n",
       "      <td>3</td>\n",
       "      <td>alfa-romero stelvio</td>\n",
       "      <td>gas</td>\n",
       "      <td>std</td>\n",
       "      <td>two</td>\n",
       "      <td>convertible</td>\n",
       "      <td>rwd</td>\n",
       "      <td>front</td>\n",
       "      <td>88.6</td>\n",
       "      <td>...</td>\n",
       "      <td>130</td>\n",
       "      <td>mpfi</td>\n",
       "      <td>3.47</td>\n",
       "      <td>2.68</td>\n",
       "      <td>9.0</td>\n",
       "      <td>111</td>\n",
       "      <td>5000</td>\n",
       "      <td>21</td>\n",
       "      <td>27</td>\n",
       "      <td>16500.0</td>\n",
       "    </tr>\n",
       "    <tr>\n",
       "      <th>2</th>\n",
       "      <td>3</td>\n",
       "      <td>1</td>\n",
       "      <td>alfa-romero Quadrifoglio</td>\n",
       "      <td>gas</td>\n",
       "      <td>std</td>\n",
       "      <td>two</td>\n",
       "      <td>hatchback</td>\n",
       "      <td>rwd</td>\n",
       "      <td>front</td>\n",
       "      <td>94.5</td>\n",
       "      <td>...</td>\n",
       "      <td>152</td>\n",
       "      <td>mpfi</td>\n",
       "      <td>2.68</td>\n",
       "      <td>3.47</td>\n",
       "      <td>9.0</td>\n",
       "      <td>154</td>\n",
       "      <td>5000</td>\n",
       "      <td>19</td>\n",
       "      <td>26</td>\n",
       "      <td>16500.0</td>\n",
       "    </tr>\n",
       "    <tr>\n",
       "      <th>3</th>\n",
       "      <td>4</td>\n",
       "      <td>2</td>\n",
       "      <td>audi 100 ls</td>\n",
       "      <td>gas</td>\n",
       "      <td>std</td>\n",
       "      <td>four</td>\n",
       "      <td>sedan</td>\n",
       "      <td>fwd</td>\n",
       "      <td>front</td>\n",
       "      <td>99.8</td>\n",
       "      <td>...</td>\n",
       "      <td>109</td>\n",
       "      <td>mpfi</td>\n",
       "      <td>3.19</td>\n",
       "      <td>3.40</td>\n",
       "      <td>10.0</td>\n",
       "      <td>102</td>\n",
       "      <td>5500</td>\n",
       "      <td>24</td>\n",
       "      <td>30</td>\n",
       "      <td>13950.0</td>\n",
       "    </tr>\n",
       "    <tr>\n",
       "      <th>4</th>\n",
       "      <td>5</td>\n",
       "      <td>2</td>\n",
       "      <td>audi 100ls</td>\n",
       "      <td>gas</td>\n",
       "      <td>std</td>\n",
       "      <td>four</td>\n",
       "      <td>sedan</td>\n",
       "      <td>4wd</td>\n",
       "      <td>front</td>\n",
       "      <td>99.4</td>\n",
       "      <td>...</td>\n",
       "      <td>136</td>\n",
       "      <td>mpfi</td>\n",
       "      <td>3.19</td>\n",
       "      <td>3.40</td>\n",
       "      <td>8.0</td>\n",
       "      <td>115</td>\n",
       "      <td>5500</td>\n",
       "      <td>18</td>\n",
       "      <td>22</td>\n",
       "      <td>17450.0</td>\n",
       "    </tr>\n",
       "  </tbody>\n",
       "</table>\n",
       "<p>5 rows × 26 columns</p>\n",
       "</div>"
      ],
      "text/plain": [
       "   car_ID  symboling                   CarName fueltype aspiration doornumber  \\\n",
       "0       1          3        alfa-romero giulia      gas        std        two   \n",
       "1       2          3       alfa-romero stelvio      gas        std        two   \n",
       "2       3          1  alfa-romero Quadrifoglio      gas        std        two   \n",
       "3       4          2               audi 100 ls      gas        std       four   \n",
       "4       5          2                audi 100ls      gas        std       four   \n",
       "\n",
       "       carbody drivewheel enginelocation  wheelbase  ...  enginesize  \\\n",
       "0  convertible        rwd          front       88.6  ...         130   \n",
       "1  convertible        rwd          front       88.6  ...         130   \n",
       "2    hatchback        rwd          front       94.5  ...         152   \n",
       "3        sedan        fwd          front       99.8  ...         109   \n",
       "4        sedan        4wd          front       99.4  ...         136   \n",
       "\n",
       "   fuelsystem  boreratio  stroke compressionratio horsepower  peakrpm citympg  \\\n",
       "0        mpfi       3.47    2.68              9.0        111     5000      21   \n",
       "1        mpfi       3.47    2.68              9.0        111     5000      21   \n",
       "2        mpfi       2.68    3.47              9.0        154     5000      19   \n",
       "3        mpfi       3.19    3.40             10.0        102     5500      24   \n",
       "4        mpfi       3.19    3.40              8.0        115     5500      18   \n",
       "\n",
       "   highwaympg    price  \n",
       "0          27  13495.0  \n",
       "1          27  16500.0  \n",
       "2          26  16500.0  \n",
       "3          30  13950.0  \n",
       "4          22  17450.0  \n",
       "\n",
       "[5 rows x 26 columns]"
      ]
     },
     "execution_count": 4,
     "metadata": {},
     "output_type": "execute_result"
    }
   ],
   "source": [
    "carprice_df.head()"
   ]
  },
  {
   "cell_type": "markdown",
   "id": "363a20b6",
   "metadata": {},
   "source": [
    "We can see that here we have 26 columns and 205 observations in this dataset. Our target variable here is the price column. For now we will only use the enginesize column as our independent variable. "
   ]
  },
  {
   "cell_type": "markdown",
   "id": "9a428d48",
   "metadata": {},
   "source": [
    "### Test/Train Split\n",
    "\n",
    "We will train our model on 70% of the data and test its results on the remaining 30%. The [df.sample()](https://pandas.pydata.org/docs/reference/api/pandas.DataFrame.sample.html) method takes a random sample of the dataframe with size specified by frac aragument. We can then get our test set as the remaining rows not in this random sample. "
   ]
  },
  {
   "cell_type": "code",
   "execution_count": 5,
   "id": "be990500",
   "metadata": {},
   "outputs": [],
   "source": [
    "train_df = carprice_df.sample(frac=0.7, random_state=99) #random state is a seed value\n",
    "test_df = carprice_df.drop(train_df.index)"
   ]
  },
  {
   "cell_type": "code",
   "execution_count": 6,
   "id": "9bb6bdd7",
   "metadata": {},
   "outputs": [
    {
     "data": {
      "text/plain": [
       "(144, 26)"
      ]
     },
     "execution_count": 6,
     "metadata": {},
     "output_type": "execute_result"
    }
   ],
   "source": [
    "train_df.shape"
   ]
  },
  {
   "cell_type": "code",
   "execution_count": 7,
   "id": "615a8d70",
   "metadata": {},
   "outputs": [
    {
     "data": {
      "text/plain": [
       "(61, 26)"
      ]
     },
     "execution_count": 7,
     "metadata": {},
     "output_type": "execute_result"
    }
   ],
   "source": [
    "test_df.shape"
   ]
  },
  {
   "cell_type": "markdown",
   "id": "4c747bdc",
   "metadata": {},
   "source": [
    "We now have 144 observations in our training sample and the remaining 61 in our test set. We now continue as we did in the previous examples."
   ]
  },
  {
   "cell_type": "markdown",
   "id": "74ceb9a3",
   "metadata": {},
   "source": [
    "### Visualising the Data"
   ]
  },
  {
   "cell_type": "code",
   "execution_count": 8,
   "id": "2f59a08f",
   "metadata": {},
   "outputs": [
    {
     "data": {
      "image/png": "[encoded data removed]",
      "text/plain": [
       "<Figure size 432x288 with 1 Axes>"
      ]
     },
     "metadata": {
      "needs_background": "light"
     },
     "output_type": "display_data"
    }
   ],
   "source": [
    "plot.scatter(train_df.enginesize, train_df.price)\n",
    "plot.xlabel('Engine Size')\n",
    "plot.ylabel('Price [$]')\n",
    "plot.show()"
   ]
  },
  {
   "cell_type": "markdown",
   "id": "0747a4a1",
   "metadata": {},
   "source": [
    "### Fitting the Linear Regression Model"
   ]
  },
  {
   "cell_type": "code",
   "execution_count": 9,
   "id": "f0822353",
   "metadata": {},
   "outputs": [],
   "source": [
    "Y_train = train_df.price\n",
    "X_train = stats.add_constant(train_df.enginesize)"
   ]
  },
  {
   "cell_type": "code",
   "execution_count": 10,
   "id": "d21cd72f",
   "metadata": {},
   "outputs": [],
   "source": [
    "model_carprice = stats.OLS(Y_train, X_train)\n",
    "results_carprice = model_carprice.fit()"
   ]
  },
  {
   "cell_type": "code",
   "execution_count": 11,
   "id": "81f80f31",
   "metadata": {},
   "outputs": [
    {
     "name": "stdout",
     "output_type": "stream",
     "text": [
      "                            OLS Regression Results                            \n",
      "==============================================================================\n",
      "Dep. Variable:                  price   R-squared:                       0.752\n",
      "Model:                            OLS   Adj. R-squared:                  0.751\n",
      "Method:                 Least Squares   F-statistic:                     431.6\n",
      "Date:                Thu, 02 Dec 2021   Prob (F-statistic):           6.87e-45\n",
      "Time:                        12:19:14   Log-Likelihood:                -1399.1\n",
      "No. Observations:                 144   AIC:                             2802.\n",
      "Df Residuals:                     142   BIC:                             2808.\n",
      "Df Model:                           1                                         \n",
      "Covariance Type:            nonrobust                                         \n",
      "==============================================================================\n",
      "                 coef    std err          t      P>|t|      [0.025      0.975]\n",
      "------------------------------------------------------------------------------\n",
      "const      -7969.4448   1068.536     -7.458      0.000   -1.01e+04   -5857.151\n",
      "enginesize   167.6000      8.067     20.775      0.000     151.652     183.548\n",
      "==============================================================================\n",
      "Omnibus:                       19.591   Durbin-Watson:                   1.992\n",
      "Prob(Omnibus):                  0.000   Jarque-Bera (JB):               27.743\n",
      "Skew:                           0.742   Prob(JB):                     9.45e-07\n",
      "Kurtosis:                       4.557   Cond. No.                         420.\n",
      "==============================================================================\n",
      "\n",
      "Notes:\n",
      "[1] Standard Errors assume that the covariance matrix of the errors is correctly specified.\n"
     ]
    }
   ],
   "source": [
    "print(results_carprice.summary())"
   ]
  },
  {
   "cell_type": "code",
   "execution_count": 12,
   "id": "1e145d4d",
   "metadata": {},
   "outputs": [
    {
     "name": "stdout",
     "output_type": "stream",
     "text": [
      "The intercept value is -7969.445\n",
      "The coefficient (slope) for the years of experience independent variable is 167.600\n",
      "The sum of square residuals is 2319259109.3\n"
     ]
    }
   ],
   "source": [
    "intercept_carprice = results_carprice.params[0]\n",
    "engsize_coeff = results_carprice.params[1]\n",
    "ssr_carprice = results_carprice.ssr\n",
    "\n",
    "print('The intercept value is {:.3f}'.format(intercept_carprice))\n",
    "print('The coefficient (slope) for the years of experience independent variable is {:.3f}'.format(engsize_coeff))\n",
    "print('The sum of square residuals is {:.1f}'.format(ssr_carprice))"
   ]
  },
  {
   "cell_type": "markdown",
   "id": "0ac0ca12",
   "metadata": {},
   "source": [
    "### Plotting Results"
   ]
  },
  {
   "cell_type": "code",
   "execution_count": 13,
   "id": "01792437",
   "metadata": {},
   "outputs": [
    {
     "data": {
      "image/png": "[encoded data removed]",
      "text/plain": [
       "<Figure size 432x288 with 1 Axes>"
      ]
     },
     "metadata": {
      "needs_background": "light"
     },
     "output_type": "display_data"
    }
   ],
   "source": [
    "x_synthetic = np.linspace(0,train_df.enginesize.max(), 50)\n",
    "y_pred_carprice = engsize_coeff*x_synthetic + intercept_carprice\n",
    "plot.scatter(train_df.enginesize, train_df.price, label='Observed')\n",
    "plot.plot(x_synthetic, y_pred_carprice, color='k', ls='--', label='Model')\n",
    "plot.xlabel('Engine Size')\n",
    "plot.ylabel('Price [$]')\n",
    "plot.legend()\n",
    "plot.show()"
   ]
  },
  {
   "cell_type": "markdown",
   "id": "7ed76187",
   "metadata": {},
   "source": [
    "We can see that our model does a reasonable job at explaining the variation in car prices. But can we add in more independent variables to further explain the errors between our predictions and the observed values? We will explore this in the next chapter on multiple linear regression."
   ]
  },
  {
   "cell_type": "markdown",
   "id": "9f650a53",
   "metadata": {},
   "source": [
    "### Applying the Model to Test Data\n",
    "\n",
    "We can then apply our model to the test data and use it to make predictions for the test data that wasn't used to build the model. We can compare these predictions with the actual observed values. We can use the results.predict() method to predict for the test data. Like with the training data, we first split the target and indpendent variable and add a constant column to the indpendent variable."
   ]
  },
  {
   "cell_type": "code",
   "execution_count": 14,
   "id": "97aaac77",
   "metadata": {},
   "outputs": [],
   "source": [
    "Y_test = test_df.price\n",
    "X_test = stats.add_constant(test_df.enginesize)"
   ]
  },
  {
   "cell_type": "code",
   "execution_count": 15,
   "id": "841b75ee",
   "metadata": {},
   "outputs": [],
   "source": [
    "test_predictions = results_carprice.predict(X_test)"
   ]
  },
  {
   "cell_type": "markdown",
   "id": "137cef04",
   "metadata": {},
   "source": [
    "We can plot our predictions against the observed values to see how good our predictions are. The closer to the diagonal line where predictions equal observed the better. "
   ]
  },
  {
   "cell_type": "code",
   "execution_count": 16,
   "id": "5ef021e1",
   "metadata": {},
   "outputs": [
    {
     "data": {
      "image/png": "[encoded data removed]",
      "text/plain": [
       "<Figure size 432x288 with 1 Axes>"
      ]
     },
     "metadata": {
      "needs_background": "light"
     },
     "output_type": "display_data"
    }
   ],
   "source": [
    "plot.scatter(test_predictions, Y_test)\n",
    "plot.plot([5000, 50000], [5000, 50000], c='k', ls='--')\n",
    "plot.xlabel('Predicted Price [$]')\n",
    "plot.ylabel('Observed Price [$]')\n",
    "plot.show()"
   ]
  },
  {
   "cell_type": "markdown",
   "id": "e73b9b11",
   "metadata": {},
   "source": [
    "We can see that our predictions are reasonably close to the actual values despite the model not being built on this data. We will come back to the metrics we can use to quantitively evaluate our models in chapter 4. "
   ]
  },
  {
   "cell_type": "markdown",
   "id": "b061bbea",
   "metadata": {},
   "source": [
    "## Scikit-Learn "
   ]
  },
  {
   "cell_type": "markdown",
   "id": "79caf7f8",
   "metadata": {},
   "source": [
    "Like in the last exercise, we will also repeat this using the Scikit-learn package. \n",
    "\n",
    "Scikit-learn also contains a useful function that performs our test-train split for us. The random sampling used by this function will be different to the one used before with the .sample() method so our training set here will contain different rows to the one used with statsmodels."
   ]
  },
  {
   "cell_type": "code",
   "execution_count": 17,
   "id": "41c17d32",
   "metadata": {},
   "outputs": [],
   "source": [
    "from sklearn.linear_model import LinearRegression\n",
    "from sklearn.model_selection import train_test_split"
   ]
  },
  {
   "cell_type": "markdown",
   "id": "8999dd5b",
   "metadata": {},
   "source": [
    "### Test/Train Split\n",
    "\n",
    "We pass the [train_test_split](https://scikit-learn.org/stable/modules/generated/sklearn.model_selection.train_test_split.html) function both our independent variable and target variable and set the size of our test set using the test_size argument. It will then return our data split into four sets: the independent variable training data; the independent variable test data; the target variable training data and the the target variable test data."
   ]
  },
  {
   "cell_type": "code",
   "execution_count": 18,
   "id": "b477bca8",
   "metadata": {},
   "outputs": [],
   "source": [
    "Y = carprice_df.price\n",
    "X = carprice_df.enginesize"
   ]
  },
  {
   "cell_type": "code",
   "execution_count": 19,
   "id": "4b0109ff",
   "metadata": {},
   "outputs": [],
   "source": [
    "sk_X_train, sk_X_test, sk_Y_train, sk_Y_test = train_test_split(X, Y, test_size=0.3, random_state=99)"
   ]
  },
  {
   "cell_type": "code",
   "execution_count": 20,
   "id": "e6f33fde",
   "metadata": {},
   "outputs": [
    {
     "data": {
      "image/png": "[encoded data removed]",
      "text/plain": [
       "<Figure size 432x288 with 1 Axes>"
      ]
     },
     "metadata": {
      "needs_background": "light"
     },
     "output_type": "display_data"
    }
   ],
   "source": [
    "plot.scatter(sk_X_train, sk_Y_train)\n",
    "plot.xlabel('Engine Size')\n",
    "plot.ylabel('Price [$]')\n",
    "plot.show()"
   ]
  },
  {
   "cell_type": "markdown",
   "id": "a487d4d2",
   "metadata": {},
   "source": [
    "### Fitting the Model to the Training Data"
   ]
  },
  {
   "cell_type": "code",
   "execution_count": 21,
   "id": "8c28b8ba",
   "metadata": {},
   "outputs": [],
   "source": [
    "sk_X_train = sk_X_train.values.reshape(-1, 1)\n",
    "sk_X_test = sk_X_test.values.reshape(-1, 1)"
   ]
  },
  {
   "cell_type": "code",
   "execution_count": 22,
   "id": "fa0212af",
   "metadata": {},
   "outputs": [
    {
     "data": {
      "text/plain": [
       "LinearRegression()"
      ]
     },
     "execution_count": 22,
     "metadata": {},
     "output_type": "execute_result"
    }
   ],
   "source": [
    "regressor = LinearRegression()  \n",
    "regressor.fit(sk_X_train, sk_Y_train)"
   ]
  },
  {
   "cell_type": "code",
   "execution_count": 23,
   "id": "21ab74f7",
   "metadata": {},
   "outputs": [],
   "source": [
    "sk_intercept_carprice = regressor.intercept_\n",
    "sk_engsize_coeff = regressor.coef_[0]\n",
    "sk_ssr_carprice = np.sum((sk_Y_train-regressor.predict(sk_X_train))**2)"
   ]
  },
  {
   "cell_type": "code",
   "execution_count": 24,
   "id": "6e2eb38d",
   "metadata": {
    "scrolled": true
   },
   "outputs": [
    {
     "name": "stdout",
     "output_type": "stream",
     "text": [
      "Using Scikit-learn...\n",
      "The intercept value is -8047.267\n",
      "The coefficient (slope) for the engine size variable is 169.706\n",
      "The sum of square residuals is 1986027010.9\n"
     ]
    }
   ],
   "source": [
    "print('Using Scikit-learn...')\n",
    "print('The intercept value is {:.3f}'.format(sk_intercept_carprice))\n",
    "print('The coefficient (slope) for the engine size variable is {:.3f}'.format(sk_engsize_coeff))\n",
    "print('The sum of square residuals is {:.1f}'.format(sk_ssr_carprice))"
   ]
  },
  {
   "cell_type": "markdown",
   "id": "e0547a0e",
   "metadata": {},
   "source": [
    "As we can see from the results the intercept and slope are similar to the values we got before but are not the same due to the different test/train samples."
   ]
  },
  {
   "cell_type": "markdown",
   "id": "89d6f11b",
   "metadata": {},
   "source": [
    "### Applying the Model to Test Data"
   ]
  },
  {
   "cell_type": "markdown",
   "id": "ea37bc0c",
   "metadata": {},
   "source": [
    "As we saw when calculating the sum of square errors, we can use the .predict() method to make predictions from values of the independent variable. Here we get our test set predictions using the test X values. We can then compare these predictions with our observed test target values Y_test by plotting them against each other."
   ]
  },
  {
   "cell_type": "code",
   "execution_count": 25,
   "id": "d2c9ce20",
   "metadata": {},
   "outputs": [],
   "source": [
    "sk_test_predictions = regressor.predict(sk_X_test)"
   ]
  },
  {
   "cell_type": "code",
   "execution_count": 26,
   "id": "d0fb6a3a",
   "metadata": {
    "scrolled": true
   },
   "outputs": [
    {
     "data": {
      "image/png": "[encoded data removed]",
      "text/plain": [
       "<Figure size 432x288 with 1 Axes>"
      ]
     },
     "metadata": {
      "needs_background": "light"
     },
     "output_type": "display_data"
    }
   ],
   "source": [
    "plot.scatter(sk_test_predictions, sk_Y_test)\n",
    "plot.plot([5000, 50000], [5000, 50000], c='k', ls='--')\n",
    "plot.xlabel('Predicted Price [$]')\n",
    "plot.ylabel('Observed Price [$]')\n",
    "plot.show()"
   ]
  },
  {
   "cell_type": "markdown",
   "id": "fe9cb733",
   "metadata": {},
   "source": [
    "In the next chapter we will extend linear regression so we can use multiple independent variables to predict our target variable."
   ]
  },
  {
   "cell_type": "code",
   "execution_count": null,
   "id": "87437767",
   "metadata": {},
   "outputs": [],
   "source": []
  }
 ],
 "metadata": {
  "kernelspec": {
   "display_name": "Python 3 (ipykernel)",
   "language": "python",
   "name": "python3"
  },
  "language_info": {
   "codemirror_mode": {
    "name": "ipython",
    "version": 3
   },
   "file_extension": ".py",
   "mimetype": "text/x-python",
   "name": "python",
   "nbconvert_exporter": "python",
   "pygments_lexer": "ipython3",
   "version": "3.9.12"
  }
 },
 "nbformat": 4,
 "nbformat_minor": 5
}
