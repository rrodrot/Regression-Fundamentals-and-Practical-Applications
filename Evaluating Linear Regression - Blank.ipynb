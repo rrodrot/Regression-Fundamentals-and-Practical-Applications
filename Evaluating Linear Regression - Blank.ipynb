{
 "cells": [
  {
   "cell_type": "markdown",
   "id": "f82bd04a",
   "metadata": {
    "id": "f82bd04a"
   },
   "source": [
    "# Interpreting Linear Regression"
   ]
  },
  {
   "cell_type": "markdown",
   "id": "NN05D8CaDkpY",
   "metadata": {
    "id": "NN05D8CaDkpY"
   },
   "source": [
    "In this notebook we will continue with our car price prediction example and explore the methods we use to interpret and evaluate the results of our linear regression model. We will begin by reproducing the results from the previous notebook.\n",
    "\n",
    "As usual, we first import the required packages and dataset."
   ]
  },
  {
   "cell_type": "code",
   "execution_count": 1,
   "id": "a0cc2607",
   "metadata": {
    "id": "a0cc2607"
   },
   "outputs": [],
   "source": [
    "import pandas as pd\n",
    "import matplotlib.pyplot as plot\n",
    "import statsmodels.api as stats\n",
    "import numpy as np"
   ]
  },
  {
   "cell_type": "code",
   "execution_count": 2,
   "id": "9b6d2bc8",
   "metadata": {
    "id": "9b6d2bc8"
   },
   "outputs": [],
   "source": [
    "carprice_df = pd.read_csv('CarPrice_Assignment.csv')"
   ]
  },
  {
   "cell_type": "markdown",
   "id": "hua9qU5uDntS",
   "metadata": {
    "id": "hua9qU5uDntS"
   },
   "source": [
    "We then remove the independent variables with too many unique categories or have high correlations with other independent variables."
   ]
  },
  {
   "cell_type": "code",
   "execution_count": 5,
   "id": "961bb3c9",
   "metadata": {
    "id": "961bb3c9"
   },
   "outputs": [],
   "source": [
    "carprice_df = carprice_df.drop(columns =['car_ID', 'CarName', 'carlength', 'carwidth', 'highwaympg'])"
   ]
  },
  {
   "cell_type": "markdown",
   "id": "DiMbfFJIDvdy",
   "metadata": {
    "id": "DiMbfFJIDvdy"
   },
   "source": [
    "Next we one-hot-encode the categorical variables so each category in a categorical variable becomes its own binary column - this converts categorical variables to numeric. We also remove more highly correlated variables after including the one-hot-encoded variables."
   ]
  },
  {
   "cell_type": "code",
   "execution_count": 6,
   "id": "9648b4a7",
   "metadata": {
    "id": "9648b4a7"
   },
   "outputs": [],
   "source": [
    "dummy = pd.get_dummies(carprice_df.select_dtypes(include = 'object'), drop_first = True)"
   ]
  },
  {
   "cell_type": "code",
   "execution_count": 7,
   "id": "a55fdeb8",
   "metadata": {
    "id": "a55fdeb8"
   },
   "outputs": [],
   "source": [
    "carprice_df = pd.concat([carprice_df.select_dtypes(exclude='object'), dummy], axis=1)"
   ]
  },
  {
   "cell_type": "code",
   "execution_count": 8,
   "id": "fe6596c1",
   "metadata": {
    "id": "fe6596c1"
   },
   "outputs": [],
   "source": [
    "carprice_df = carprice_df.drop(columns=['compressionratio', 'drivewheel_fwd', 'enginetype_rotor', 'fuelsystem_4bbl', 'fuelsystem_idi'])"
   ]
  },
  {
   "cell_type": "markdown",
   "id": "UlKhKm6lDr7H",
   "metadata": {
    "id": "UlKhKm6lDr7H"
   },
   "source": [
    "We then split our data into train and test sets, and add our constant column."
   ]
  },
  {
   "cell_type": "code",
   "execution_count": 10,
   "id": "be6116d3",
   "metadata": {
    "id": "be6116d3"
   },
   "outputs": [],
   "source": [
    "train_df=carprice_df.sample(frac=0.7, random_state=101) \n",
    "test_df=carprice_df.drop(train_df.index)"
   ]
  },
  {
   "cell_type": "code",
   "execution_count": 12,
   "id": "74dc7903",
   "metadata": {
    "id": "74dc7903"
   },
   "outputs": [],
   "source": [
    "Y_train = train_df.price\n",
    "X_train = stats.add_constant(train_df.drop(columns = ['price']))"
   ]
  },
  {
   "cell_type": "markdown",
   "id": "o_fL_h02D1J6",
   "metadata": {
    "id": "o_fL_h02D1J6"
   },
   "source": [
    "We then fit our model to the training data"
   ]
  },
  {
   "cell_type": "code",
   "execution_count": 13,
   "id": "284a688d",
   "metadata": {
    "id": "284a688d"
   },
   "outputs": [],
   "source": [
    "model_carprice = stats.OLS(Y_train, X_train)\n",
    "results_carprice = model_carprice.fit()"
   ]
  },
  {
   "cell_type": "code",
   "execution_count": 14,
   "id": "8f2af9ac",
   "metadata": {
    "id": "8f2af9ac"
   },
   "outputs": [],
   "source": [
    "Y_test = test_df.price\n",
    "test_df = stats.add_constant(test_df)\n",
    "X_test = test_df[X_train.columns]"
   ]
  },
  {
   "cell_type": "markdown",
   "id": "ATMTsMerD42X",
   "metadata": {
    "id": "ATMTsMerD42X"
   },
   "source": [
    "We finally produce our test set predictions\n",
    "\n"
   ]
  },
  {
   "cell_type": "code",
   "execution_count": 15,
   "id": "db55d3b3",
   "metadata": {
    "id": "db55d3b3"
   },
   "outputs": [],
   "source": [
    "test_predictions = results_carprice.predict(X_test)"
   ]
  },
  {
   "cell_type": "markdown",
   "id": "b14acb50",
   "metadata": {
    "id": "b14acb50"
   },
   "source": [
    "# p-Values and Coefficients"
   ]
  },
  {
   "cell_type": "markdown",
   "id": "3a49379a",
   "metadata": {
    "id": "3a49379a"
   },
   "source": [
    "### p-Values"
   ]
  },
  {
   "cell_type": "code",
   "execution_count": 16,
   "id": "951f97ae",
   "metadata": {
    "id": "951f97ae"
   },
   "outputs": [
    {
     "name": "stdout",
     "output_type": "stream",
     "text": [
      "                            OLS Regression Results                            \n",
      "==============================================================================\n",
      "Dep. Variable:                  price   R-squared:                       0.934\n",
      "Model:                            OLS   Adj. R-squared:                  0.914\n",
      "Method:                 Least Squares   F-statistic:                     45.55\n",
      "Date:                Sat, 14 Jan 2023   Prob (F-statistic):           3.67e-50\n",
      "Time:                        10:25:36   Log-Likelihood:                -1290.5\n",
      "No. Observations:                 144   AIC:                             2651.\n",
      "Df Residuals:                     109   BIC:                             2755.\n",
      "Df Model:                          34                                         \n",
      "Covariance Type:            nonrobust                                         \n",
      "=========================================================================================\n",
      "                            coef    std err          t      P>|t|      [0.025      0.975]\n",
      "-----------------------------------------------------------------------------------------\n",
      "const                 -4589.8141   1.36e+04     -0.339      0.736   -3.15e+04    2.23e+04\n",
      "symboling              -195.3560    275.546     -0.709      0.480    -741.478     350.766\n",
      "wheelbase               111.9690     97.725      1.146      0.254     -81.718     305.656\n",
      "carheight                 1.4924    151.089      0.010      0.992    -297.960     300.945\n",
      "curbweight                3.3413      1.790      1.867      0.065      -0.206       6.889\n",
      "enginesize              143.2072     31.070      4.609      0.000      81.628     204.786\n",
      "boreratio             -2168.3434   1739.298     -1.247      0.215   -5615.575    1278.889\n",
      "stroke                -3700.8660   1067.185     -3.468      0.001   -5815.992   -1585.740\n",
      "horsepower               -3.7400     25.863     -0.145      0.885     -54.999      47.519\n",
      "peakrpm                   3.0697      0.739      4.153      0.000       1.605       4.535\n",
      "citympg                 -55.2785     95.692     -0.578      0.565    -244.937     134.380\n",
      "fueltype_gas          -3696.1365   1614.690     -2.289      0.024   -6896.400    -495.873\n",
      "aspiration_turbo       1216.7113    883.271      1.378      0.171    -533.903    2967.326\n",
      "doornumber_two          378.0984    645.983      0.585      0.560    -902.218    1658.415\n",
      "carbody_hardtop       -6359.0168   2101.359     -3.026      0.003   -1.05e+04   -2194.191\n",
      "carbody_hatchback     -5001.7014   1853.335     -2.699      0.008   -8674.952   -1328.451\n",
      "carbody_sedan         -4628.2653   1961.869     -2.359      0.020   -8516.626    -739.905\n",
      "carbody_wagon         -5956.9478   2094.596     -2.844      0.005   -1.01e+04   -1805.528\n",
      "drivewheel_rwd         1205.4963    840.610      1.434      0.154    -460.565    2871.558\n",
      "enginelocation_rear    7388.6637   3315.257      2.229      0.028     817.932     1.4e+04\n",
      "enginetype_dohcv      -4877.2903   5643.179     -0.864      0.389   -1.61e+04    6307.307\n",
      "enginetype_l           2252.7398   1694.287      1.330      0.186   -1105.282    5610.762\n",
      "enginetype_ohc         6003.5748   1107.520      5.421      0.000    3808.506    8198.644\n",
      "enginetype_ohcf        5239.7688   1952.177      2.684      0.008    1370.618    9108.919\n",
      "enginetype_ohcv       -2813.6533   1452.712     -1.937      0.055   -5692.881      65.574\n",
      "cylindernumber_five   -1.318e+04   4178.726     -3.154      0.002   -2.15e+04   -4896.139\n",
      "cylindernumber_four    -1.37e+04   4452.545     -3.076      0.003   -2.25e+04   -4872.457\n",
      "cylindernumber_six    -1.078e+04   3588.812     -3.004      0.003   -1.79e+04   -3669.574\n",
      "cylindernumber_three  -4050.6391   5637.107     -0.719      0.474   -1.52e+04    7121.923\n",
      "cylindernumber_twelve -6.004e-11   3.35e-10     -0.179      0.858   -7.24e-10    6.04e-10\n",
      "cylindernumber_two    -1986.0019   5888.879     -0.337      0.737   -1.37e+04    9685.565\n",
      "fuelsystem_2bbl        1209.7976    997.381      1.213      0.228    -766.978    3186.574\n",
      "fuelsystem_mfi        -1125.4730   2735.099     -0.411      0.682   -6546.351    4295.405\n",
      "fuelsystem_mpfi        1185.1312   1103.274      1.074      0.285   -1001.522    3371.784\n",
      "fuelsystem_spdi        -522.7241   1568.039     -0.333      0.740   -3630.526    2585.077\n",
      "fuelsystem_spfi        -460.1582   2580.026     -0.178      0.859   -5573.685    4653.368\n",
      "==============================================================================\n",
      "Omnibus:                       17.977   Durbin-Watson:                   2.148\n",
      "Prob(Omnibus):                  0.000   Jarque-Bera (JB):               47.770\n",
      "Skew:                           0.415   Prob(JB):                     4.23e-11\n",
      "Kurtosis:                       5.697   Cond. No.                     1.00e+16\n",
      "==============================================================================\n",
      "\n",
      "Notes:\n",
      "[1] Standard Errors assume that the covariance matrix of the errors is correctly specified.\n",
      "[2] The smallest eigenvalue is 4.71e-23. This might indicate that there are\n",
      "strong multicollinearity problems or that the design matrix is singular.\n"
     ]
    }
   ],
   "source": [
    "print(results_carprice.summary())"
   ]
  },
  {
   "cell_type": "markdown",
   "id": "285bfd5e",
   "metadata": {
    "id": "285bfd5e"
   },
   "source": [
    "### Re-training the Model"
   ]
  },
  {
   "cell_type": "code",
   "execution_count": 17,
   "id": "b43a5baf",
   "metadata": {
    "id": "b43a5baf"
   },
   "outputs": [],
   "source": [
    "Y_train_new = train_df.price\n",
    "X_train_new = stats.add_constant(train_df[['enginesize', \n",
    "                                    'stroke', \n",
    "                                    'peakrpm', \n",
    "                                    'fueltype_gas', \n",
    "                                    'carbody_hardtop', \n",
    "                                    'carbody_hatchback', \n",
    "                                    'enginelocation_rear',\n",
    "                                    'enginetype_ohc',\n",
    "                                    'cylindernumber_five',\n",
    "                                    'cylindernumber_four',\n",
    "                                    'cylindernumber_six']])"
   ]
  },
  {
   "cell_type": "code",
   "execution_count": 18,
   "id": "793787e0",
   "metadata": {
    "id": "793787e0"
   },
   "outputs": [],
   "source": [
    "model_carprice_new = stats.OLS(Y_train_new, X_train_new)\n",
    "results_carprice_new = model_carprice_new.fit()"
   ]
  },
  {
   "cell_type": "code",
   "execution_count": 19,
   "id": "8e582ba5",
   "metadata": {
    "id": "8e582ba5"
   },
   "outputs": [
    {
     "name": "stdout",
     "output_type": "stream",
     "text": [
      "                            OLS Regression Results                            \n",
      "==============================================================================\n",
      "Dep. Variable:                  price   R-squared:                       0.883\n",
      "Model:                            OLS   Adj. R-squared:                  0.873\n",
      "Method:                 Least Squares   F-statistic:                     90.22\n",
      "Date:                Sat, 14 Jan 2023   Prob (F-statistic):           8.02e-56\n",
      "Time:                        10:28:30   Log-Likelihood:                -1332.3\n",
      "No. Observations:                 144   AIC:                             2689.\n",
      "Df Residuals:                     132   BIC:                             2724.\n",
      "Df Model:                          11                                         \n",
      "Covariance Type:            nonrobust                                         \n",
      "=======================================================================================\n",
      "                          coef    std err          t      P>|t|      [0.025      0.975]\n",
      "---------------------------------------------------------------------------------------\n",
      "const                5265.5852   3987.241      1.321      0.189   -2621.572    1.32e+04\n",
      "enginesize            189.0048      9.626     19.634      0.000     169.963     208.046\n",
      "stroke              -5262.8712    906.489     -5.806      0.000   -7055.995   -3469.747\n",
      "peakrpm                 2.2863      0.569      4.015      0.000       1.160       3.413\n",
      "fueltype_gas        -3801.4946    899.508     -4.226      0.000   -5580.811   -2022.179\n",
      "carbody_hardtop     -3031.9986   1335.530     -2.270      0.025   -5673.808    -390.189\n",
      "carbody_hatchback   -1141.4341    508.488     -2.245      0.026   -2147.274    -135.595\n",
      "enginelocation_rear  9238.2627   3124.692      2.957      0.004    3057.313    1.54e+04\n",
      "enginetype_ohc       3345.6544    700.554      4.776      0.000    1959.888    4731.420\n",
      "cylindernumber_five -7047.7637   1662.390     -4.240      0.000   -1.03e+04   -3759.392\n",
      "cylindernumber_four -9839.9292   1252.118     -7.859      0.000   -1.23e+04   -7363.117\n",
      "cylindernumber_six  -8535.9291   1432.158     -5.960      0.000   -1.14e+04   -5702.979\n",
      "==============================================================================\n",
      "Omnibus:                       14.394   Durbin-Watson:                   1.845\n",
      "Prob(Omnibus):                  0.001   Jarque-Bera (JB):               36.424\n",
      "Skew:                           0.293   Prob(JB):                     1.23e-08\n",
      "Kurtosis:                       5.393   Cond. No.                     9.76e+04\n",
      "==============================================================================\n",
      "\n",
      "Notes:\n",
      "[1] Standard Errors assume that the covariance matrix of the errors is correctly specified.\n",
      "[2] The condition number is large, 9.76e+04. This might indicate that there are\n",
      "strong multicollinearity or other numerical problems.\n"
     ]
    }
   ],
   "source": [
    "print(results_carprice_new.summary())"
   ]
  },
  {
   "cell_type": "markdown",
   "id": "fj6vilWeHWua",
   "metadata": {
    "id": "fj6vilWeHWua"
   },
   "source": [
    "All of our independent variables now have p-values below 0.05 (except const which we are not concerned whether this is zero or not) and we have reduced the complexity of our model by reducing the number of variables."
   ]
  },
  {
   "cell_type": "code",
   "execution_count": 20,
   "id": "b6fdba80",
   "metadata": {
    "id": "b6fdba80"
   },
   "outputs": [],
   "source": [
    "Y_test_new = test_df.price\n",
    "X_test_new = test_df[X_train_new.columns]"
   ]
  },
  {
   "cell_type": "code",
   "execution_count": 21,
   "id": "ddc35709",
   "metadata": {
    "id": "ddc35709"
   },
   "outputs": [],
   "source": [
    "test_predictions_new = results_carprice_new.predict(X_test_new)"
   ]
  },
  {
   "cell_type": "code",
   "execution_count": 22,
   "id": "ffef9518",
   "metadata": {
    "id": "ffef9518"
   },
   "outputs": [
    {
     "data": {
      "image/png": "[encoded data removed]",
      "text/plain": [
       "<Figure size 432x288 with 1 Axes>"
      ]
     },
     "metadata": {
      "needs_background": "light"
     },
     "output_type": "display_data"
    }
   ],
   "source": [
    "plot.scatter(test_predictions_new, Y_test_new)\n",
    "plot.plot([5000, 50000], [5000, 50000], c='k', ls='--')\n",
    "plot.xlabel('Predicted Price [$]')\n",
    "plot.ylabel('Observed Price [$]')\n",
    "plot.show()"
   ]
  },
  {
   "cell_type": "markdown",
   "id": "056f7bc6",
   "metadata": {
    "id": "056f7bc6"
   },
   "source": [
    "### Coefficients"
   ]
  },
  {
   "cell_type": "markdown",
   "id": "gdZswg27Ha5P",
   "metadata": {
    "id": "gdZswg27Ha5P"
   },
   "source": [
    "The coefficients tell us how much the target variable changes for a one unit change in the corresponding independent variable when all the other independent variables are held fixed. We can get a measure of which independent variable contributes the most change to the target variable if we first scale all the independent variables to remove the units. This is known as standardization as we discussed in the theory lesson."
   ]
  },
  {
   "cell_type": "code",
   "execution_count": 24,
   "id": "c9c84bfd",
   "metadata": {
    "id": "c9c84bfd"
   },
   "outputs": [],
   "source": [
    "X_train_scale = ((X_train_new - X_train_new.mean())/X_train_new.std()).drop(columns=['const'])"
   ]
  },
  {
   "cell_type": "code",
   "execution_count": 26,
   "id": "bf44aa89",
   "metadata": {
    "id": "bf44aa89"
   },
   "outputs": [
    {
     "data": {
      "text/plain": [
       "enginesize             1.0\n",
       "stroke                 1.0\n",
       "peakrpm                1.0\n",
       "fueltype_gas           1.0\n",
       "carbody_hardtop        1.0\n",
       "carbody_hatchback      1.0\n",
       "enginelocation_rear    1.0\n",
       "enginetype_ohc         1.0\n",
       "cylindernumber_five    1.0\n",
       "cylindernumber_four    1.0\n",
       "cylindernumber_six     1.0\n",
       "dtype: float64"
      ]
     },
     "execution_count": 26,
     "metadata": {},
     "output_type": "execute_result"
    }
   ],
   "source": [
    "X_train_scale.std()"
   ]
  },
  {
   "cell_type": "code",
   "execution_count": 28,
   "id": "a382976b",
   "metadata": {
    "id": "a382976b"
   },
   "outputs": [
    {
     "data": {
      "text/plain": [
       "enginesize             0.0\n",
       "stroke                 0.0\n",
       "peakrpm                0.0\n",
       "fueltype_gas          -0.0\n",
       "carbody_hardtop        0.0\n",
       "carbody_hatchback      0.0\n",
       "enginelocation_rear    0.0\n",
       "enginetype_ohc         0.0\n",
       "cylindernumber_five   -0.0\n",
       "cylindernumber_four    0.0\n",
       "cylindernumber_six     0.0\n",
       "dtype: float64"
      ]
     },
     "execution_count": 28,
     "metadata": {},
     "output_type": "execute_result"
    }
   ],
   "source": [
    "X_train_scale.mean().round(2)"
   ]
  },
  {
   "cell_type": "markdown",
   "id": "XD1WDCrBHoJJ",
   "metadata": {
    "id": "XD1WDCrBHoJJ"
   },
   "source": [
    "As we can see the independent variables now all have mean zero and a standard deviation of one and will will therefore be able to compare coefficient values. We will now refit the model. Scikit-Learn also contains a function StandardScaler() which will perform this standardization."
   ]
  },
  {
   "cell_type": "code",
   "execution_count": 29,
   "id": "e0062b6a",
   "metadata": {
    "id": "e0062b6a"
   },
   "outputs": [],
   "source": [
    "X_train_scale = stats.add_constant(X_train_scale)"
   ]
  },
  {
   "cell_type": "code",
   "execution_count": 30,
   "id": "76832e92",
   "metadata": {
    "id": "76832e92"
   },
   "outputs": [],
   "source": [
    "model_carprice_scale = stats.OLS(Y_train_new, X_train_scale)\n",
    "results_carprice_scale = model_carprice_scale.fit()"
   ]
  },
  {
   "cell_type": "code",
   "execution_count": 31,
   "id": "8d8a2064",
   "metadata": {
    "id": "8d8a2064"
   },
   "outputs": [
    {
     "name": "stdout",
     "output_type": "stream",
     "text": [
      "                            OLS Regression Results                            \n",
      "==============================================================================\n",
      "Dep. Variable:                  price   R-squared:                       0.883\n",
      "Model:                            OLS   Adj. R-squared:                  0.873\n",
      "Method:                 Least Squares   F-statistic:                     90.22\n",
      "Date:                Sat, 14 Jan 2023   Prob (F-statistic):           8.02e-56\n",
      "Time:                        10:33:58   Log-Likelihood:                -1332.3\n",
      "No. Observations:                 144   AIC:                             2689.\n",
      "Df Residuals:                     132   BIC:                             2724.\n",
      "Df Model:                          11                                         \n",
      "Covariance Type:            nonrobust                                         \n",
      "=======================================================================================\n",
      "                          coef    std err          t      P>|t|      [0.025      0.975]\n",
      "---------------------------------------------------------------------------------------\n",
      "const                1.248e+04    219.527     56.871      0.000    1.21e+04    1.29e+04\n",
      "enginesize           7181.4117    365.758     19.634      0.000    6457.905    7904.918\n",
      "stroke              -1625.4214    279.966     -5.806      0.000   -2179.222   -1071.621\n",
      "peakrpm              1142.4913    284.554      4.015      0.000     579.615    1705.367\n",
      "fueltype_gas        -1165.3211    275.738     -4.226      0.000   -1710.758    -619.884\n",
      "carbody_hardtop      -607.9878    267.805     -2.270      0.025   -1137.734     -78.242\n",
      "carbody_hatchback    -545.3189    242.930     -2.245      0.026   -1025.858     -64.780\n",
      "enginelocation_rear   769.8552    260.391      2.957      0.004     254.776    1284.934\n",
      "enginetype_ohc       1440.0550    301.537      4.776      0.000     843.586    2036.524\n",
      "cylindernumber_five -1520.9375    358.751     -4.240      0.000   -2230.582    -811.293\n",
      "cylindernumber_four -4058.4741    516.435     -7.859      0.000   -5080.034   -3036.914\n",
      "cylindernumber_six  -2763.9352    463.733     -5.960      0.000   -3681.245   -1846.625\n",
      "==============================================================================\n",
      "Omnibus:                       14.394   Durbin-Watson:                   1.845\n",
      "Prob(Omnibus):                  0.001   Jarque-Bera (JB):               36.424\n",
      "Skew:                           0.293   Prob(JB):                     1.23e-08\n",
      "Kurtosis:                       5.393   Cond. No.                         5.61\n",
      "==============================================================================\n",
      "\n",
      "Notes:\n",
      "[1] Standard Errors assume that the covariance matrix of the errors is correctly specified.\n"
     ]
    }
   ],
   "source": [
    "print(results_carprice_scale.summary())"
   ]
  },
  {
   "cell_type": "code",
   "execution_count": 32,
   "id": "87ba2fea",
   "metadata": {
    "id": "87ba2fea"
   },
   "outputs": [
    {
     "data": {
      "text/plain": [
       "<AxesSubplot:>"
      ]
     },
     "execution_count": 32,
     "metadata": {},
     "output_type": "execute_result"
    },
    {
     "data": {
      "image/png": "[encoded data removed]",
      "text/plain": [
       "<Figure size 432x288 with 1 Axes>"
      ]
     },
     "metadata": {
      "needs_background": "light"
     },
     "output_type": "display_data"
    }
   ],
   "source": [
    "results_carprice_scale.params.drop(index=['const']).abs().sort_values(ascending=False).plot.bar()"
   ]
  },
  {
   "cell_type": "markdown",
   "id": "5178a0e4",
   "metadata": {
    "id": "5178a0e4"
   },
   "source": [
    "# Residuals and Residual Plots"
   ]
  },
  {
   "cell_type": "code",
   "execution_count": 33,
   "id": "ceae9b81",
   "metadata": {
    "id": "ceae9b81"
   },
   "outputs": [
    {
     "data": {
      "text/plain": [
       "120    -185.205528\n",
       "185   -1485.475419\n",
       "180   -3815.947168\n",
       "119     872.815707\n",
       "109    3492.490264\n",
       "          ...     \n",
       "86    -3061.198405\n",
       "193    2037.957826\n",
       "20    -1383.557493\n",
       "155    1392.163478\n",
       "10     2523.359750\n",
       "Length: 144, dtype: float64"
      ]
     },
     "execution_count": 33,
     "metadata": {},
     "output_type": "execute_result"
    }
   ],
   "source": [
    "results_carprice_new.resid"
   ]
  },
  {
   "cell_type": "markdown",
   "id": "XCD6irwFH2kl",
   "metadata": {
    "id": "XCD6irwFH2kl"
   },
   "source": [
    "We can then plot these residuals against our predicted values for the training data and observe if we see any non-random pattern in the data."
   ]
  },
  {
   "cell_type": "code",
   "execution_count": 34,
   "id": "78f00917",
   "metadata": {
    "id": "78f00917"
   },
   "outputs": [
    {
     "data": {
      "text/plain": [
       "[<matplotlib.lines.Line2D at 0x1dd1ed410d0>]"
      ]
     },
     "execution_count": 34,
     "metadata": {},
     "output_type": "execute_result"
    },
    {
     "data": {
      "image/png": "[encoded data removed]",
      "text/plain": [
       "<Figure size 432x288 with 1 Axes>"
      ]
     },
     "metadata": {
      "needs_background": "light"
     },
     "output_type": "display_data"
    }
   ],
   "source": [
    "plot.scatter(results_carprice_new.fittedvalues, results_carprice_new.resid)\n",
    "plot.plot([5000,50000], [0,0], c='k', ls='--')"
   ]
  },
  {
   "cell_type": "markdown",
   "id": "7648fa51",
   "metadata": {
    "id": "7648fa51"
   },
   "source": [
    "# Evaluating Linear Regression"
   ]
  },
  {
   "cell_type": "markdown",
   "id": "XbFZ452_H9mM",
   "metadata": {
    "id": "XbFZ452_H9mM"
   },
   "source": [
    "statsmodels allows us to easily calculate the metrics we have discussed (mean square error, root mean square error, mean absolute error,  R2  and adjusted  R2 ) We can calculate these for either/both the training data and the test data."
   ]
  },
  {
   "cell_type": "code",
   "execution_count": 35,
   "id": "34bdb81d",
   "metadata": {
    "id": "34bdb81d",
    "scrolled": true
   },
   "outputs": [
    {
     "name": "stdout",
     "output_type": "stream",
     "text": [
      "The training dataset mean square error is 6361335.8\n"
     ]
    }
   ],
   "source": [
    "train_mse = stats.tools.eval_measures.mse(Y_train_new, results_carprice_new.fittedvalues)\n",
    "print('The training dataset mean square error is {}'.format(train_mse.round(1)))"
   ]
  },
  {
   "cell_type": "code",
   "execution_count": 36,
   "id": "694451c8",
   "metadata": {
    "id": "694451c8"
   },
   "outputs": [
    {
     "name": "stdout",
     "output_type": "stream",
     "text": [
      "The training dataset root mean square error is 2522.2\n"
     ]
    }
   ],
   "source": [
    "train_rmse = stats.tools.eval_measures.rmse(Y_train_new, results_carprice_new.fittedvalues)\n",
    "print('The training dataset root mean square error is {}'.format(train_rmse.round(1)))"
   ]
  },
  {
   "cell_type": "code",
   "execution_count": 37,
   "id": "7718a85e",
   "metadata": {
    "id": "7718a85e"
   },
   "outputs": [
    {
     "name": "stdout",
     "output_type": "stream",
     "text": [
      "The training dataset mean absolute error is 1851.4\n"
     ]
    }
   ],
   "source": [
    "train_mae = stats.tools.eval_measures.meanabs(Y_train_new, results_carprice_new.fittedvalues)\n",
    "print('The training dataset mean absolute error is {}'.format(train_mae.round(1)))"
   ]
  },
  {
   "cell_type": "code",
   "execution_count": 38,
   "id": "91ae735f",
   "metadata": {
    "id": "91ae735f"
   },
   "outputs": [
    {
     "name": "stdout",
     "output_type": "stream",
     "text": [
      "The training dataset coefficient of determination is 0.883\n"
     ]
    }
   ],
   "source": [
    "train_r2 = results_carprice_new.rsquared\n",
    "print('The training dataset coefficient of determination is {}'.format(train_r2.round(3)))"
   ]
  },
  {
   "cell_type": "code",
   "execution_count": 39,
   "id": "eaf56881",
   "metadata": {
    "id": "eaf56881",
    "scrolled": true
   },
   "outputs": [
    {
     "name": "stdout",
     "output_type": "stream",
     "text": [
      "The training dataset adjusted coefficient of determination is 0.873\n"
     ]
    }
   ],
   "source": [
    "train_r2_adj = results_carprice_new.rsquared_adj\n",
    "print('The training dataset adjusted coefficient of determination is {}'.format(train_r2_adj.round(3)))"
   ]
  },
  {
   "cell_type": "markdown",
   "id": "a0f8b771",
   "metadata": {
    "id": "a0f8b771"
   },
   "source": [
    "### Scikit-Learn"
   ]
  },
  {
   "cell_type": "code",
   "execution_count": null,
   "id": "49c3fbd2",
   "metadata": {
    "id": "49c3fbd2"
   },
   "outputs": [],
   "source": [
    "from sklearn.linear_model import LinearRegression\n",
    "from sklearn.model_selection import train_test_split"
   ]
  },
  {
   "cell_type": "code",
   "execution_count": null,
   "id": "e9161357",
   "metadata": {
    "id": "e9161357"
   },
   "outputs": [],
   "source": [
    "Y = carprice_df.price\n",
    "X = carprice_df[['enginesize', \n",
    "                 'stroke', \n",
    "                 'peakrpm', \n",
    "                 'fueltype_gas', \n",
    "                 'carbody_hardtop', \n",
    "                 'carbody_hatchback', \n",
    "                 'enginelocation_rear',\n",
    "                 'enginetype_ohc',\n",
    "                 'cylindernumber_five',\n",
    "                 'cylindernumber_four',\n",
    "                 'cylindernumber_six']]"
   ]
  },
  {
   "cell_type": "code",
   "execution_count": null,
   "id": "42830e76",
   "metadata": {
    "id": "42830e76"
   },
   "outputs": [],
   "source": [
    "sk_X_train, sk_X_test, sk_Y_train, sk_Y_test = train_test_split(X, Y, test_size=0.3, random_state=97)"
   ]
  },
  {
   "cell_type": "code",
   "execution_count": null,
   "id": "141cf3ea",
   "metadata": {
    "id": "141cf3ea",
    "outputId": "6f3aa3b4-5d4a-4b27-abd3-5e1341e7d64d"
   },
   "outputs": [
    {
     "data": {
      "text/plain": [
       "LinearRegression()"
      ]
     },
     "execution_count": 36,
     "metadata": {},
     "output_type": "execute_result"
    }
   ],
   "source": [
    "regressor = LinearRegression()  \n",
    "regressor.fit(sk_X_train, sk_Y_train)"
   ]
  },
  {
   "cell_type": "code",
   "execution_count": null,
   "id": "9ec1186d",
   "metadata": {
    "id": "9ec1186d"
   },
   "outputs": [],
   "source": [
    "sk_intercept_carprice = regressor.intercept_\n",
    "sk_engsize_coeffs = regressor.coef_\n",
    "sk_ssr_carprice = np.sum((sk_Y_train-regressor.predict(sk_X_train))**2)"
   ]
  },
  {
   "cell_type": "code",
   "execution_count": null,
   "id": "dd44fa68",
   "metadata": {
    "id": "dd44fa68"
   },
   "outputs": [],
   "source": [
    "sk_train_predictions = regressor.predict(sk_X_train)\n",
    "sk_test_predictions = regressor.predict(sk_X_test)"
   ]
  },
  {
   "cell_type": "code",
   "execution_count": null,
   "id": "66e0eafe",
   "metadata": {
    "id": "66e0eafe"
   },
   "outputs": [],
   "source": [
    "from sklearn.metrics import mean_absolute_error, mean_squared_error, r2_score"
   ]
  },
  {
   "cell_type": "code",
   "execution_count": null,
   "id": "d68b2213",
   "metadata": {
    "id": "d68b2213",
    "outputId": "45ee9ee5-36f0-4ab8-d445-457ced080d75"
   },
   "outputs": [
    {
     "name": "stdout",
     "output_type": "stream",
     "text": [
      "The training dataset mean square error is 6501288.6\n"
     ]
    }
   ],
   "source": [
    "sk_train_mse = mean_squared_error(sk_Y_train, sk_train_predictions)\n",
    "print('The training dataset mean square error is {}'.format(sk_train_mse.round(1)))"
   ]
  },
  {
   "cell_type": "code",
   "execution_count": null,
   "id": "5c87d194",
   "metadata": {
    "id": "5c87d194",
    "outputId": "fd77df70-f78b-45cf-a09d-bcb8aee6b45e"
   },
   "outputs": [
    {
     "name": "stdout",
     "output_type": "stream",
     "text": [
      "The training dataset root mean square error is 2549.8\n"
     ]
    }
   ],
   "source": [
    "sk_train_rmse = np.sqrt(sk_train_mse)\n",
    "print('The training dataset root mean square error is {}'.format(sk_train_rmse.round(1)))"
   ]
  },
  {
   "cell_type": "code",
   "execution_count": null,
   "id": "9d90bdeb",
   "metadata": {
    "id": "9d90bdeb",
    "outputId": "7c0b9f6f-2d03-44ff-e526-61091c8eceea"
   },
   "outputs": [
    {
     "name": "stdout",
     "output_type": "stream",
     "text": [
      "The training dataset mean absolute error is 1904.1\n"
     ]
    }
   ],
   "source": [
    "sk_train_mae = mean_absolute_error(sk_Y_train, sk_train_predictions)\n",
    "print('The training dataset mean absolute error is {}'.format(sk_train_mae.round(1)))"
   ]
  },
  {
   "cell_type": "code",
   "execution_count": null,
   "id": "e96ddd58",
   "metadata": {
    "id": "e96ddd58",
    "outputId": "88186f70-06ce-4c7e-d522-4f4ac7cd624f"
   },
   "outputs": [
    {
     "name": "stdout",
     "output_type": "stream",
     "text": [
      "The training dataset coefficient of determination is 0.872\n"
     ]
    }
   ],
   "source": [
    "sk_train_r2 = r2_score(sk_Y_train, sk_train_predictions)\n",
    "print('The training dataset coefficient of determination is {}'.format(sk_train_r2.round(3)))"
   ]
  },
  {
   "cell_type": "code",
   "execution_count": null,
   "id": "0fe536ea",
   "metadata": {
    "id": "0fe536ea",
    "outputId": "75562baf-6724-4ab6-c391-1b49b1a48b01"
   },
   "outputs": [
    {
     "name": "stdout",
     "output_type": "stream",
     "text": [
      "The training dataset adjusted coefficient of determination is 0.861\n"
     ]
    }
   ],
   "source": [
    "n = sk_X_train.shape[0]\n",
    "p = sk_X_train.shape[1]\n",
    "sk_train_r2_adj = 1-(1-sk_train_r2)*(n-1)/(n-p-1)\n",
    "print('The training dataset adjusted coefficient of determination is {}'.format(sk_train_r2_adj.round(3)))"
   ]
  },
  {
   "cell_type": "markdown",
   "id": "9dcaf7ff",
   "metadata": {
    "id": "9dcaf7ff"
   },
   "source": [
    "### Test Data"
   ]
  },
  {
   "cell_type": "code",
   "execution_count": null,
   "id": "0bb39f30",
   "metadata": {
    "id": "0bb39f30",
    "outputId": "d9b32c65-cf86-4df0-8438-cc60ec77244a"
   },
   "outputs": [
    {
     "name": "stdout",
     "output_type": "stream",
     "text": [
      "The test dataset coefficient of determination is 0.837\n"
     ]
    }
   ],
   "source": [
    "sk_test_r2 = r2_score(sk_Y_test, sk_test_predictions)\n",
    "print('The test dataset coefficient of determination is {}'.format(sk_test_r2.round(3)))"
   ]
  }
 ],
 "metadata": {
  "colab": {
   "name": "Evaluating Linear Regression - Blank.ipynb",
   "provenance": []
  },
  "kernelspec": {
   "display_name": "Python 3 (ipykernel)",
   "language": "python",
   "name": "python3"
  },
  "language_info": {
   "codemirror_mode": {
    "name": "ipython",
    "version": 3
   },
   "file_extension": ".py",
   "mimetype": "text/x-python",
   "name": "python",
   "nbconvert_exporter": "python",
   "pygments_lexer": "ipython3",
   "version": "3.9.12"
  }
 },
 "nbformat": 4,
 "nbformat_minor": 5
}
